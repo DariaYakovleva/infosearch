{
 "cells": [
  {
   "cell_type": "markdown",
   "metadata": {},
   "source": [
    "# Кодирование методом Фибоначчи\n",
    "\n",
    "\n",
    "Используем ряд чисел Фибонначи как основания псевдо-ЧС.\n",
    "Естественным терминатором закодированной последовательности является **\"11\"**\n",
    "\n",
    "Рекомендую использовать классы для работы с битовыми полями: BitstreamWriter и BitstreamRader."
   ]
  },
  {
   "cell_type": "code",
   "execution_count": 1,
   "metadata": {
    "collapsed": false,
    "scrolled": true
   },
   "outputs": [],
   "source": [
    "class BitstreamWriter:\n",
    "    def __init__(self):\n",
    "        self.nbits  = 0\n",
    "        self.curbyte = 0\n",
    "        self.vbytes = []\n",
    "\n",
    "    \"\"\" add single bit \"\"\"\n",
    "    def add(self, x):\n",
    "        self.curbyte |= x << (8-1 - (self.nbits % 8))\n",
    "        self.nbits += 1\n",
    "\n",
    "        if self.nbits % 8 == 0:\n",
    "            self.vbytes.append(chr(self.curbyte))\n",
    "            self.curbyte = 0\n",
    "\n",
    "    \"\"\" get byte-aligned bits \"\"\"\n",
    "    def getbytes(self):\n",
    "        if self.nbits & 7 == 0:\n",
    "            return \"\".join(self.vbytes)\n",
    "\n",
    "        return \"\".join(self.vbytes) + chr(self.curbyte)\n",
    "\n",
    "\n",
    "class BitstreamReader:\n",
    "    def __init__(self, blob):\n",
    "        self.blob = blob\n",
    "        self.pos  = 0\n",
    "\n",
    "    \"\"\" extract next bit \"\"\"\n",
    "    def get(self):\n",
    "        ibyte = self.pos / 8\n",
    "        ibit  = self.pos & 7\n",
    "\n",
    "        self.pos += 1\n",
    "        return (ord(self.blob[ibyte]) & (1 << (7 - ibit))) >> (7 - ibit)\n",
    "\n",
    "    def finished(self):\n",
    "        return self.pos >= len(self.blob) * 8\n"
   ]
  },
  {
   "cell_type": "markdown",
   "metadata": {},
   "source": [
    "# Код компрессии Фибоначчи\n",
    "\n",
    "Вы должны реализовать тела 2х функций - сжатия списка документов (dl) и его распаковки обратно - в список.  \n",
    "Корректность реализации проверяется набором unit-test-ов. Успешное прохождение Unit-test-ов гарантирует правильность реализации."
   ]
  },
  {
   "cell_type": "code",
   "execution_count": 10,
   "metadata": {
    "collapsed": false
   },
   "outputs": [
    {
     "ename": "TypeError",
     "evalue": "string indices must be integers",
     "output_type": "error",
     "traceback": [
      "\u001b[0;31m---------------------------------------------------------------------------\u001b[0m",
      "\u001b[0;31mTypeError\u001b[0m                                 Traceback (most recent call last)",
      "\u001b[0;32m<ipython-input-10-12f0b8aff7df>\u001b[0m in \u001b[0;36m<module>\u001b[0;34m()\u001b[0m\n\u001b[1;32m     79\u001b[0m \u001b[1;31m#unittest.TextTestRunner().run(suite)\u001b[0m\u001b[1;33m\u001b[0m\u001b[1;33m\u001b[0m\u001b[0m\n\u001b[1;32m     80\u001b[0m \u001b[1;33m\u001b[0m\u001b[0m\n\u001b[0;32m---> 81\u001b[0;31m \u001b[0mprint\u001b[0m\u001b[1;33m(\u001b[0m\u001b[0mdecompress_fblist\u001b[0m\u001b[1;33m(\u001b[0m\u001b[0mcompress_fblist\u001b[0m\u001b[1;33m(\u001b[0m\u001b[1;33m[\u001b[0m\u001b[1;36m40\u001b[0m\u001b[1;33m]\u001b[0m\u001b[1;33m)\u001b[0m\u001b[1;33m)\u001b[0m\u001b[1;33m)\u001b[0m\u001b[1;33m\u001b[0m\u001b[0m\n\u001b[0m",
      "\u001b[0;32m<ipython-input-10-12f0b8aff7df>\u001b[0m in \u001b[0;36mdecompress_fblist\u001b[0;34m(s)\u001b[0m\n\u001b[1;32m     44\u001b[0m     \u001b[0mcur\u001b[0m \u001b[1;33m=\u001b[0m \u001b[1;33m[\u001b[0m\u001b[1;33m]\u001b[0m\u001b[1;33m\u001b[0m\u001b[0m\n\u001b[1;32m     45\u001b[0m     \u001b[1;32mwhile\u001b[0m \u001b[1;32mnot\u001b[0m \u001b[0mbs\u001b[0m\u001b[1;33m.\u001b[0m\u001b[0mfinished\u001b[0m\u001b[1;33m(\u001b[0m\u001b[1;33m)\u001b[0m\u001b[1;33m:\u001b[0m\u001b[1;33m\u001b[0m\u001b[0m\n\u001b[0;32m---> 46\u001b[0;31m         \u001b[0mcur\u001b[0m\u001b[1;33m.\u001b[0m\u001b[0mappend\u001b[0m\u001b[1;33m(\u001b[0m\u001b[0mbs\u001b[0m\u001b[1;33m.\u001b[0m\u001b[0mget\u001b[0m\u001b[1;33m(\u001b[0m\u001b[1;33m)\u001b[0m\u001b[1;33m)\u001b[0m\u001b[1;33m\u001b[0m\u001b[0m\n\u001b[0m\u001b[1;32m     47\u001b[0m         \u001b[1;32mif\u001b[0m \u001b[0mlen\u001b[0m\u001b[1;33m(\u001b[0m\u001b[0mcur\u001b[0m\u001b[1;33m)\u001b[0m \u001b[1;33m>\u001b[0m \u001b[1;36m2\u001b[0m \u001b[1;32mand\u001b[0m \u001b[0mcur\u001b[0m\u001b[1;33m[\u001b[0m\u001b[1;33m-\u001b[0m\u001b[1;36m1\u001b[0m\u001b[1;33m]\u001b[0m \u001b[1;33m==\u001b[0m \u001b[1;34m'1'\u001b[0m \u001b[1;32mand\u001b[0m \u001b[0mcur\u001b[0m\u001b[1;33m[\u001b[0m\u001b[1;33m-\u001b[0m\u001b[1;36m2\u001b[0m\u001b[1;33m]\u001b[0m \u001b[1;33m==\u001b[0m \u001b[1;34m'1'\u001b[0m\u001b[1;33m:\u001b[0m\u001b[1;33m\u001b[0m\u001b[0m\n\u001b[1;32m     48\u001b[0m             \u001b[0mres\u001b[0m \u001b[1;33m=\u001b[0m \u001b[1;36m0\u001b[0m\u001b[1;33m\u001b[0m\u001b[0m\n",
      "\u001b[0;32m<ipython-input-1-ec38d2373856>\u001b[0m in \u001b[0;36mget\u001b[0;34m(self)\u001b[0m\n\u001b[1;32m     33\u001b[0m \u001b[1;33m\u001b[0m\u001b[0m\n\u001b[1;32m     34\u001b[0m         \u001b[0mself\u001b[0m\u001b[1;33m.\u001b[0m\u001b[0mpos\u001b[0m \u001b[1;33m+=\u001b[0m \u001b[1;36m1\u001b[0m\u001b[1;33m\u001b[0m\u001b[0m\n\u001b[0;32m---> 35\u001b[0;31m         \u001b[1;32mreturn\u001b[0m \u001b[1;33m(\u001b[0m\u001b[0mord\u001b[0m\u001b[1;33m(\u001b[0m\u001b[0mself\u001b[0m\u001b[1;33m.\u001b[0m\u001b[0mblob\u001b[0m\u001b[1;33m[\u001b[0m\u001b[0mibyte\u001b[0m\u001b[1;33m]\u001b[0m\u001b[1;33m)\u001b[0m \u001b[1;33m&\u001b[0m \u001b[1;33m(\u001b[0m\u001b[1;36m1\u001b[0m \u001b[1;33m<<\u001b[0m \u001b[1;33m(\u001b[0m\u001b[1;36m7\u001b[0m \u001b[1;33m-\u001b[0m \u001b[0mibit\u001b[0m\u001b[1;33m)\u001b[0m\u001b[1;33m)\u001b[0m\u001b[1;33m)\u001b[0m \u001b[1;33m>>\u001b[0m \u001b[1;33m(\u001b[0m\u001b[1;36m7\u001b[0m \u001b[1;33m-\u001b[0m \u001b[0mibit\u001b[0m\u001b[1;33m)\u001b[0m\u001b[1;33m\u001b[0m\u001b[0m\n\u001b[0m\u001b[1;32m     36\u001b[0m \u001b[1;33m\u001b[0m\u001b[0m\n\u001b[1;32m     37\u001b[0m     \u001b[1;32mdef\u001b[0m \u001b[0mfinished\u001b[0m\u001b[1;33m(\u001b[0m\u001b[0mself\u001b[0m\u001b[1;33m)\u001b[0m\u001b[1;33m:\u001b[0m\u001b[1;33m\u001b[0m\u001b[0m\n",
      "\u001b[0;31mTypeError\u001b[0m: string indices must be integers"
     ]
    }
   ],
   "source": [
    "import unittest\n",
    "import random\n",
    "\n",
    "# Use this numbers as base to encode\n",
    "fib_nums = None\n",
    "\n",
    "def init_fibnumbers():\n",
    "    global fib_nums\n",
    "    fib_nums = [1, 2]\n",
    "\n",
    "    while True:\n",
    "        fib_nums.append(fib_nums[-2] + fib_nums[-1])\n",
    "        if fib_nums[-1] > 2**28:\n",
    "            break\n",
    "            \n",
    "init_fibnumbers()\n",
    "\n",
    "\n",
    "\"\"\"\n",
    "Input dl contains monotonically groving integers\n",
    "\"\"\"\n",
    "def compress_fblist(dl):\n",
    "    bs = BitstreamWriter()    \n",
    "    for x in dl:\n",
    "        pos = 0\n",
    "        while fib_nums[pos] <= x:\n",
    "            pos += 1\n",
    "        pos -= 1\n",
    "        while x > 0:\n",
    "            if x >= fib_nums[pos]:\n",
    "                x -= fib_nums[pos]\n",
    "                bs.add(1)\n",
    "            else:\n",
    "                bs.add(0)\n",
    "            pos -= 1\n",
    "        bs.add(1)\n",
    "        bs.add(1)       \n",
    "    return bs.getbytes()\n",
    "\n",
    "\n",
    "def decompress_fblist(s):\n",
    "    bs = BitstreamReader(s)\n",
    "    dl = []\n",
    "    cur = []\n",
    "    while not bs.finished():\n",
    "        cur.append(bs.get())\n",
    "        if len(cur) > 2 and cur[-1] == '1' and cur[-2] == '1':\n",
    "            res = 0\n",
    "            for i in range(len(cur)):\n",
    "                res += cur[i] * fib_nums[len(cur) - 2 - i - 1]\n",
    "            dl.append(res)\n",
    "            cur = []\n",
    "    print(dl)\n",
    "    return dl\n",
    "\n",
    "\n",
    "class TestFibbonacciCompression(unittest.TestCase):\n",
    "    def test_simple_compression(self):\n",
    "        cb = compress_fblist([4, 48, 115, 190])\n",
    "        nums = decompress_fblist(cb)\n",
    "        self.assertListEqual(nums, [4, 48, 115, 190])\n",
    "\n",
    "    def test_one_element(self):\n",
    "        cb = compress_fblist([40])\n",
    "        nums = decompress_fblist(cb)\n",
    "        self.assertListEqual(nums, [40])\n",
    "        \n",
    "    def test_random_elements(self):\n",
    "        n = random.randint(1000, 2000)\n",
    "        arr = []\n",
    "        for i in xrange(n):\n",
    "            delta = random.randint(1, 100)\n",
    "            arr.append(delta if i == 0 else arr[i-1]+delta)\n",
    "        cb = compress_fblist(arr)\n",
    "        decoded = decompress_fblist(cb)\n",
    "        self.assertListEqual(decoded, arr)\n",
    "\n",
    "#suite = unittest.TestLoader().loadTestsFromTestCase(TestFibbonacciCompression)\n",
    "#unittest.TextTestRunner().run(suite)\n",
    "\n",
    "print(decompress_fblist(compress_fblist([40])))"
   ]
  },
  {
   "cell_type": "markdown",
   "metadata": {
    "collapsed": true
   },
   "source": [
    "# Сравнение с generic сжатием\n",
    "\n",
    "Сжатие, которое вы реализовали существенно более эффективно для монотоного ряда чисел.  \n",
    "Рассмотрим пример: давайте сожмем файл с большим кол-вом чисел и сравним *Fibonnaci vs Gzip*."
   ]
  },
  {
   "cell_type": "code",
   "execution_count": 72,
   "metadata": {
    "collapsed": false
   },
   "outputs": [
    {
     "ename": "RuntimeError",
     "evalue": "Fibonacci encoding made empty string",
     "output_type": "error",
     "traceback": [
      "\u001b[0;31m---------------------------------------------------------------------------\u001b[0m",
      "\u001b[0;31mRuntimeError\u001b[0m                              Traceback (most recent call last)",
      "\u001b[0;32m<ipython-input-72-5a4d86b1c1dd>\u001b[0m in \u001b[0;36m<module>\u001b[0;34m()\u001b[0m\n\u001b[1;32m     23\u001b[0m \u001b[0;34m\u001b[0m\u001b[0m\n\u001b[1;32m     24\u001b[0m \u001b[0;32mif\u001b[0m \u001b[0;32mnot\u001b[0m \u001b[0mfblist_len\u001b[0m\u001b[0;34m:\u001b[0m\u001b[0;34m\u001b[0m\u001b[0m\n\u001b[0;32m---> 25\u001b[0;31m     \u001b[0;32mraise\u001b[0m \u001b[0mRuntimeError\u001b[0m\u001b[0;34m(\u001b[0m\u001b[0;34m\"Fibonacci encoding made empty string\"\u001b[0m\u001b[0;34m)\u001b[0m\u001b[0;34m\u001b[0m\u001b[0m\n\u001b[0m\u001b[1;32m     26\u001b[0m \u001b[0;34m\u001b[0m\u001b[0m\n\u001b[1;32m     27\u001b[0m \u001b[0;32mprint\u001b[0m \u001b[0;34m\"Compressed with gzip: %d Kb\"\u001b[0m \u001b[0;34m%\u001b[0m \u001b[0;34m(\u001b[0m\u001b[0mgzip_len\u001b[0m \u001b[0;34m/\u001b[0m \u001b[0;36m1024\u001b[0m\u001b[0;34m)\u001b[0m\u001b[0;34m\u001b[0m\u001b[0m\n",
      "\u001b[0;31mRuntimeError\u001b[0m: Fibonacci encoding made empty string"
     ]
    }
   ],
   "source": [
    "import gzip\n",
    "import random\n",
    "import cStringIO\n",
    "\n",
    "def gen_numbers(n, min_step=1, max_step=5):\n",
    "    nums = [1]\n",
    "    for i in xrange(n):\n",
    "        nums.append(nums[-1] + random.randint(min_step, max_step))   \n",
    "    return nums\n",
    "        \n",
    "def compress_gzip(nums):\n",
    "    sstream = cStringIO.StringIO()\n",
    "    zs = gzip.GzipFile(fileobj=sstream, mode='wb')\n",
    "    for n in nums:\n",
    "        zs.write(\"%d\\n\" % n)\n",
    "    zs.flush()\n",
    "    return sstream.getvalue()\n",
    "\n",
    "# поэкспериментируйте со значениями max_step\n",
    "nums = gen_numbers(n=10**5, max_step=5)\n",
    "gzip_len = len(compress_gzip(nums))\n",
    "fblist_len = len(compress_fblist(nums))\n",
    "\n",
    "if not fblist_len:\n",
    "    raise RuntimeError(\"Fibonacci encoding made empty string\")\n",
    "\n",
    "print \"Compressed with gzip: %d Kb\" % (gzip_len / 1024)\n",
    "print \"Compressed with fibonacci: %d Kb\" % (fblist_len / 1024)\n",
    "print \"Gzip/Fibonacci ratio: %.1f\" % (float(gzip_len) / fblist_len)"
   ]
  }
 ],
 "metadata": {
  "kernelspec": {
   "display_name": "Python 3",
   "language": "python",
   "name": "python3"
  },
  "language_info": {
   "codemirror_mode": {
    "name": "ipython",
    "version": 3
   },
   "file_extension": ".py",
   "mimetype": "text/x-python",
   "name": "python",
   "nbconvert_exporter": "python",
   "pygments_lexer": "ipython3",
   "version": "3.6.0"
  }
 },
 "nbformat": 4,
 "nbformat_minor": 0
}
