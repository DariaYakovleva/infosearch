{
 "cells": [
  {
   "cell_type": "code",
   "execution_count": 1,
   "metadata": {
    "collapsed": false
   },
   "outputs": [],
   "source": [
    "import docreader\n",
    "import re\n",
    "import sys\n",
    "from collections import defaultdict"
   ]
  },
  {
   "cell_type": "code",
   "execution_count": 2,
   "metadata": {
    "collapsed": true
   },
   "outputs": [],
   "source": [
    "SPLIT_RGX = re.compile(r'\\w+', re.U)\n",
    "\n",
    "def extract_words(text):\n",
    "    words = re.findall(SPLIT_RGX, text)\n",
    "    return map(lambda s: s.lower(), words)\n"
   ]
  },
  {
   "cell_type": "code",
   "execution_count": 3,
   "metadata": {
    "collapsed": false
   },
   "outputs": [],
   "source": [
    "myDict = defaultdict(lambda:[])\n",
    "urls = []\n",
    "# reader = DocumentStreamReader(parse_command_line().files)\n",
    "reader = docreader.DocumentStreamReader(['dataset/lenta.ru_159b9f4b-972b-48b1-8ec3-44fbd6be33c4_01.gz'])\n",
    "for doc in reader:\n",
    "#     print \"%s\\t%d bytes\" % (doc.url, len(doc.text))\n",
    "    urls.append(doc.url)\n",
    "    for word in extract_words(doc.text):\n",
    "        myDict[word].append(len(urls) - 1)\n"
   ]
  },
  {
   "cell_type": "code",
   "execution_count": 4,
   "metadata": {
    "collapsed": true
   },
   "outputs": [],
   "source": [
    "def getUrls(words):\n",
    "    result = []\n",
    "    n = len(words)\n",
    "    pointer = [0] * n\n",
    "    for url1 in myDict[words[0]]:\n",
    "        cnt = 1\n",
    "        for i in range(1, n):\n",
    "            curDict = myDict[words[i]]\n",
    "            while pointer[i] < len(curDict) and curDict[pointer[i]] < url1:\n",
    "                pointer[i] += 1\n",
    "            if pointer[i] == len(curDict):\n",
    "                break\n",
    "            if curDict[pointer[i]] == url1:\n",
    "                cnt += 1\n",
    "        if cnt == n:\n",
    "            result.append(urls[url1])\n",
    "    return result"
   ]
  },
  {
   "cell_type": "code",
   "execution_count": 13,
   "metadata": {
    "collapsed": false
   },
   "outputs": [
    {
     "name": "stdout",
     "output_type": "stream",
     "text": [
      "назвала &самые &подверженные &коррупции\n",
      "[u'\\u043d\\u0430\\u0437\\u0432\\u0430\\u043b\\u0430', u'\\u0441\\u0430\\u043c\\u044b\\u0435', u'\\u043f\\u043e\\u0434\\u0432\\u0435\\u0440\\u0436\\u0435\\u043d\\u043d\\u044b\\u0435', u'\\u043a\\u043e\\u0440\\u0440\\u0443\\u043f\\u0446\\u0438\\u0438']\n",
      "1\n",
      "http://lenta.ru/news/2015/12/22/corruption_reiting/\n"
     ]
    }
   ],
   "source": [
    "# назвала &самые &подверженные &коррупции\n",
    "query = [q.strip() for q in raw_input().decode('cp1251').split(\"&\")]\n",
    "print query\n",
    "result = getUrls(query)\n",
    "print len(result)\n",
    "for r in result:\n",
    "    print r\n"
   ]
  },
  {
   "cell_type": "code",
   "execution_count": 25,
   "metadata": {
    "collapsed": false
   },
   "outputs": [
    {
     "name": "stdout",
     "output_type": "stream",
     "text": [
      "10000101\n",
      "1000000100000000\n",
      "1000000100000101\n",
      "5\n",
      "128\n",
      "133\n"
     ]
    }
   ],
   "source": [
    "def num_to_bytes(x):\n",
    "    # x < 128\n",
    "    res = ''\n",
    "    for i in range(7):\n",
    "        if x & (1 << i) > 0:\n",
    "            res += '1'\n",
    "        else:\n",
    "            res += '0'\n",
    "    res += '0'\n",
    "    res = res[::-1]\n",
    "    return res\n",
    "\n",
    "def bytes_to_num(x):\n",
    "    res = 0\n",
    "    x = x[::-1]\n",
    "    for i in range(len(x)):\n",
    "        res += int(x[i]) * (1 << i)\n",
    "    return res\n",
    "\n",
    "def varbyte_encode(x):\n",
    "    res = []\n",
    "    while x > 0:\n",
    "        cur = x % 128\n",
    "        res.append(num_to_bytes(x))\n",
    "        x /= 128\n",
    "    res.reverse()\n",
    "    res[0] = '1' + res[0][1:]    \n",
    "    return ''.join(res)\n",
    "\n",
    "def varbyte_decode(x):\n",
    "    res = 0\n",
    "    blocks = []\n",
    "    for i in range(len(x) // 8):\n",
    "        blocks.append(x[(i * 8):((i + 1) * 8)])\n",
    "    blocks[0] = '0' + blocks[0][1:8]\n",
    "    blocks.reverse()\n",
    "    for i in range(len(blocks)):\n",
    "        res += 128 ** i * bytes_to_num(blocks[i])\n",
    "    return res\n",
    "\n",
    "# print varbyte_encode(5)\n",
    "# print varbyte_encode(128)\n",
    "# print varbyte_encode(133)\n",
    "# print varbyte_decode(varbyte_encode(5))\n",
    "# print varbyte_decode(varbyte_encode(128))\n",
    "# print varbyte_decode(varbyte_encode(133))"
   ]
  },
  {
   "cell_type": "code",
   "execution_count": null,
   "metadata": {
    "collapsed": true
   },
   "outputs": [],
   "source": []
  }
 ],
 "metadata": {
  "kernelspec": {
   "display_name": "Python 2",
   "language": "python",
   "name": "python2"
  },
  "language_info": {
   "codemirror_mode": {
    "name": "ipython",
    "version": 2
   },
   "file_extension": ".py",
   "mimetype": "text/x-python",
   "name": "python",
   "nbconvert_exporter": "python",
   "pygments_lexer": "ipython2",
   "version": "2.7.13"
  }
 },
 "nbformat": 4,
 "nbformat_minor": 2
}
