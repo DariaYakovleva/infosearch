{
 "cells": [
  {
   "cell_type": "code",
   "execution_count": 9,
   "metadata": {
    "collapsed": false
   },
   "outputs": [],
   "source": [
    "import sys\n",
    "import numpy as np\n",
    "import operator\n",
    "import pandas\n",
    "import pymorphy2\n",
    "import math\n",
    "import re"
   ]
  },
  {
   "cell_type": "code",
   "execution_count": 3,
   "metadata": {
    "collapsed": true
   },
   "outputs": [],
   "source": [
    "input_path = 'data/news_src_no_tokenized.txt'"
   ]
  },
  {
   "cell_type": "code",
   "execution_count": 146,
   "metadata": {
    "collapsed": false
   },
   "outputs": [],
   "source": [
    "# определение части речи\n",
    "# return (normal form, POS, proper name?)\n",
    "class POSTagger:\n",
    "    __stemmer = pymorphy2.MorphAnalyzer()\n",
    "    __cache = {}\n",
    "    def parse(self, token):\n",
    "        form = ('', '')\n",
    "        if token not in self.__cache:\n",
    "            res = self.__stemmer.parse(token)[0]\n",
    "            dd = str(res.tag).split(',')\n",
    "            name = dd[min(len(dd) - 1, 3)].split()[0]\n",
    "            surn = dd[min(len(dd) - 1, 4)].split()[0]\n",
    "            form = (res.normal_form, res.tag.POS, name, surn)\n",
    "            self.__cache[token] = form\n",
    "        else :\n",
    "            form = self.__cache[token]\n",
    "        return form\n",
    "pos_tagger = POSTagger()\n",
    "\n",
    "\n",
    "wordFrequency = dict()\n",
    "bigrams = dict()\n",
    "tgrams = dict()\n",
    "allbigrams = dict()\n",
    "\n",
    "# получаем биграммы\n",
    "def getData(input_file):\n",
    "    wordFrequency.clear()\n",
    "    bigrams.clear()\n",
    "    tgrams.clear()\n",
    "    allbigrams.clear()\n",
    "    file = open(input_file)    \n",
    "    for pos, line in enumerate(file):\n",
    "        if pos == 50:\n",
    "            break\n",
    "        url, data = line.strip().split('\\t')    \n",
    "        data = re.split('[\\s.,!?()\"]+', data.decode('utf-8')) #data.split(\"\\\\p{P}?[ \\\\t\\\\n\\\\r]+\")\n",
    "#         print(data[:10])              \n",
    "        for i in range(len(data) - 1):              \n",
    "            w1 = data[i]\n",
    "            w2 = data[i + 1]            \n",
    "            if len(w1) < 2 or len(w2) < 2:\n",
    "                continue\n",
    "            morph1 = pos_tagger.parse(w1)\n",
    "            morph2 = pos_tagger.parse(w2)\n",
    "            wordFrequency[morph1[0]] = wordFrequency.get(morph1[0], 0) + 1            \n",
    "            bigram = w1 + ' ' + w2\n",
    "            allbigrams[bigram] = allbigrams.get(bigram, 0) + 1\n",
    "            if i + 2 < len(data):\n",
    "                w3 = data[i + 2]\n",
    "                tgram = bigram + ' ' + w3\n",
    "                tgrams[tgram] = tgrams.get(tgram, 0) + 1\n",
    "            if morph1[2] == 'Name' or morph2[2] == 'Name' or morph1[3] == 'Surn' or morph2[3] == 'Surn':                \n",
    "                bigrams[bigram] = bigrams.get(bigram, 0) + 1\n",
    "#                 print bigram\n",
    "        \n",
    "    print 'bigrams =', len(bigrams)    \n"
   ]
  },
  {
   "cell_type": "code",
   "execution_count": 157,
   "metadata": {
    "collapsed": false
   },
   "outputs": [],
   "source": [
    "def word_count():\n",
    "    cnt_words = 0\n",
    "    for w in wordFrequency.keys():\n",
    "        cnt_words += wordFrequency[w]\n",
    "    return cnt_words\n",
    "\n",
    "cnt_words = word_count()\n",
    "\n",
    "#2.576\n",
    "def students_test(bigram):\n",
    "    w1, w2 = bigram.split()[:2]\n",
    "    m1, m2 = pos_tagger.parse(w1)[0], pos_tagger.parse(w2)[0]\n",
    "    p1 = float(wordFrequency.get(m1, 1)) / cnt_words\n",
    "    p2 = float(wordFrequency.get(m2, 1)) / cnt_words    \n",
    "    m = p1 * p2\n",
    "    s = m * (1 - m)    \n",
    "    x = float(bigrams[bigram]) / cnt_words    \n",
    "    res = (x - m) / (s / cnt_words) ** 0.5\n",
    "    return res\n",
    "\n",
    "def count_bigrams():\n",
    "    cnt_words = word_count()\n",
    "#     print(cnt_words)\n",
    "    studs = []\n",
    "    for bigram in bigrams.keys():\n",
    "        studs.append((bigram, students_test(bigram)))\n",
    "    studs.sort(key=lambda x: x[1])\n",
    "    return studs\n"
   ]
  },
  {
   "cell_type": "code",
   "execution_count": 158,
   "metadata": {
    "collapsed": false
   },
   "outputs": [],
   "source": [
    "def get_pandas(names, indexs, values):\n",
    "    return pandas.DataFrame(data=values, columns=names, index=indexs)\n",
    "# get_pandas(['a', 'b'], ['c', 'd', 'x'], [[11, 12], [22, 23], [33, 34]])"
   ]
  },
  {
   "cell_type": "code",
   "execution_count": 159,
   "metadata": {
    "collapsed": false
   },
   "outputs": [],
   "source": [
    "def get_3grams(s):\n",
    "    res = []\n",
    "    words = s.split()\n",
    "    for i in range(len(words) - 2):\n",
    "        b = ' '.join(words[i:i+2])\n",
    "        allbigrams[b] = allbigrams.get(b, 0) + 1\n",
    "        t = ' '.join(words[i:i+3])\n",
    "        tgrams[t] = tgrams.get(t, 0) + 1\n",
    "        res.append(t)\n",
    "    return res\n",
    "\n",
    "def value_3gram(s):\n",
    "    w1, w2, w3 = s.split()\n",
    "    cnt3 = tgrams[s]\n",
    "    cnt2 = allbigrams[w1 + ' ' + w2] \n",
    "    return float(cnt3 + 1) / (cnt2 + len(allbigrams))"
   ]
  },
  {
   "cell_type": "code",
   "execution_count": 160,
   "metadata": {
    "collapsed": false
   },
   "outputs": [
    {
     "name": "stdout",
     "output_type": "stream",
     "text": [
      "bigrams = 598\n",
      "на своей должности -0.606202370901\n",
      "на Ерофее 2.68150285723\n",
      "Дмитриев был 3.11409773864\n",
      "на Тарановского 3.19212933612\n",
      "он Александра 3.30526251542\n",
      "развития Сергей 3.5165321044\n",
      "в том числе 3.52464635481\n",
      "Дмитриевым он 4.07560219698\n",
      "Дмитриев он 4.07560219698\n",
      "что любой 4.81021927868\n"
     ]
    },
    {
     "data": {
      "text/html": [
       "<div>\n",
       "<table border=\"1\" class=\"dataframe\">\n",
       "  <thead>\n",
       "    <tr style=\"text-align: right;\">\n",
       "      <th></th>\n",
       "      <th>Президент США Барак</th>\n",
       "      <th>США Барак Обама</th>\n",
       "      <th>Барак Обама решил</th>\n",
       "      <th>Обама решил сняться</th>\n",
       "      <th>решил сняться в</th>\n",
       "      <th>сняться в телепередаче</th>\n",
       "      <th>в телепередаче с</th>\n",
       "      <th>телепередаче с Беар</th>\n",
       "      <th>с Беар Гриллсом</th>\n",
       "    </tr>\n",
       "  </thead>\n",
       "  <tbody>\n",
       "    <tr>\n",
       "      <th>idx</th>\n",
       "      <td>1.000000</td>\n",
       "      <td>1.000000</td>\n",
       "      <td>1.000000</td>\n",
       "      <td>1.000000</td>\n",
       "      <td>1.000000</td>\n",
       "      <td>1.000000</td>\n",
       "      <td>1.000000</td>\n",
       "      <td>1.000000</td>\n",
       "      <td>1.000000</td>\n",
       "    </tr>\n",
       "    <tr>\n",
       "      <th>p</th>\n",
       "      <td>0.000123</td>\n",
       "      <td>0.000123</td>\n",
       "      <td>0.000123</td>\n",
       "      <td>0.000123</td>\n",
       "      <td>0.000123</td>\n",
       "      <td>0.000123</td>\n",
       "      <td>0.000123</td>\n",
       "      <td>0.000123</td>\n",
       "      <td>0.000123</td>\n",
       "    </tr>\n",
       "  </tbody>\n",
       "</table>\n",
       "</div>"
      ],
      "text/plain": [
       "     Президент США Барак  США Барак Обама  Барак Обама решил  \\\n",
       "idx             1.000000         1.000000           1.000000   \n",
       "p               0.000123         0.000123           0.000123   \n",
       "\n",
       "     Обама решил сняться  решил сняться в  сняться в телепередаче  \\\n",
       "idx             1.000000         1.000000                1.000000   \n",
       "p               0.000123         0.000123                0.000123   \n",
       "\n",
       "     в телепередаче с  телепередаче с Беар  с Беар Гриллсом  \n",
       "idx          1.000000             1.000000         1.000000  \n",
       "p            0.000123             0.000123         0.000123  "
      ]
     },
     "execution_count": 160,
     "metadata": {},
     "output_type": "execute_result"
    }
   ],
   "source": [
    "def test_1(input_file):\n",
    "    getData(input_file)\n",
    "    res = count_bigrams()\n",
    "    for x in res[:10]:\n",
    "        print x[0], x[1]\n",
    "    \n",
    "test_1(input_path)\n",
    "\n",
    "def test_2(input_file):\n",
    "    getData('data/news_src_tokenized.txt')\n",
    "    s = 'Президент США Барак Обама решил сняться в телепередаче с Беар Гриллсом'\n",
    "    tgrs = get_3grams(s)\n",
    "    idx, p = [], []\n",
    "    for t in tgrs:\n",
    "        idx.append(tgrams[t])  \n",
    "        p.append(value_3gram(t))\n",
    "    return get_pandas(tgrs, ['idx', 'p'], [idx, p])\n",
    "\n",
    "test_2(input_path)"
   ]
  },
  {
   "cell_type": "code",
   "execution_count": null,
   "metadata": {
    "collapsed": true
   },
   "outputs": [],
   "source": []
  }
 ],
 "metadata": {
  "kernelspec": {
   "display_name": "Python 2",
   "language": "python",
   "name": "python2"
  },
  "language_info": {
   "codemirror_mode": {
    "name": "ipython",
    "version": 2
   },
   "file_extension": ".py",
   "mimetype": "text/x-python",
   "name": "python",
   "nbconvert_exporter": "python",
   "pygments_lexer": "ipython2",
   "version": "2.7.13"
  }
 },
 "nbformat": 4,
 "nbformat_minor": 2
}
