{
 "cells": [
  {
   "cell_type": "code",
   "execution_count": 35,
   "metadata": {
    "collapsed": false
   },
   "outputs": [
    {
     "name": "stdout",
     "output_type": "stream",
     "text": [
      "The autoreload extension is already loaded. To reload it, use:\n",
      "  %reload_ext autoreload\n"
     ]
    },
    {
     "data": {
      "application/javascript": [
       "IPython.notebook.set_autosave_interval(15000)"
      ]
     },
     "metadata": {},
     "output_type": "display_data"
    },
    {
     "name": "stdout",
     "output_type": "stream",
     "text": [
      "Autosaving every 15 seconds\n"
     ]
    }
   ],
   "source": [
    "%matplotlib inline\n",
    "%load_ext autoreload\n",
    "%autoreload 5\n",
    "%autosave 15\n",
    "\n",
    "import pandas as pd\n",
    "import numpy as np\n",
    "import json\n",
    "import io\n",
    "import re\n",
    "import string\n",
    "from sklearn.metrics import f1_score, auc"
   ]
  },
  {
   "cell_type": "code",
   "execution_count": 36,
   "metadata": {
    "collapsed": false
   },
   "outputs": [],
   "source": [
    "train_data = []\n",
    "with io.open('train_data.json','r',encoding='utf8') as f:\n",
    "    for line in f.readlines():\n",
    "        d = json.loads(line)\n",
    "        train_data.append(d)"
   ]
  },
  {
   "cell_type": "code",
   "execution_count": 37,
   "metadata": {
    "collapsed": false
   },
   "outputs": [],
   "source": [
    "test_data = []\n",
    "with io.open('test_data.json','r',encoding='utf8') as f:\n",
    "    for line in f.readlines():\n",
    "        d = json.loads(line)\n",
    "        test_data.append(d)"
   ]
  },
  {
   "cell_type": "code",
   "execution_count": 54,
   "metadata": {
    "collapsed": true
   },
   "outputs": [],
   "source": [
    "reds = ['т.е.', 'т.д.', 'т.к.', 'н.э.', 'т.п.', 'г.', 'гл.', 'пер.', 'гг.', 'ч.', 'вв.', 'ч.ч.', 'млн.', 'руб.', 'пп.',\n",
    "        'др.', 'ст.', 'ул.', 'ч.', 'д.м.', 'в.', 'в. н. э.', 'вв', 'ред.', 'изм.', 'сокр.',\n",
    "        'проф.', 'см.', ' п.', ' - ', 'ред.', 'тыс.', 'стр.', 'акад.', 'рис.']\n",
    "\n",
    "def getFeatures(par, pos):\n",
    "        cur_features = []\n",
    "        par = par + '  '\n",
    "        #mark\n",
    "        cur_features.append(ord(par[pos]))\n",
    "        for x in range(pos - 2, pos + 3):\n",
    "            if x == pos:\n",
    "                continue\n",
    "            #space left, space right\n",
    "            cur_features.append(par[x] == ' ')\n",
    "            #punctuation left, punctuation right\n",
    "            cur_features.append(par[x] in string.punctuation)\n",
    "            #digit left, digit right\n",
    "            cur_features.append(re.match('[0-9]', par[x]) is not None)\n",
    "            #capital letter left, letter right\n",
    "            cur_features.append(re.match('[A-ZА-Я]', par[x]) is not None)                        \n",
    "            #lower letter left, letter right\n",
    "            cur_features.append(re.match('[a-zа-я]', par[x]) is not None)            \n",
    "            #open brackets left\n",
    "            cur_features.append(par[x] == '(')            \n",
    "            #open brackets right\n",
    "            cur_features.append(par[x] == ')')    \n",
    "        cur_features.append(int(par[pos + 1] == ' ') * 5)\n",
    "        cur_features.append(int(re.match('[A-ZА-Я]', par[pos + 1]) is not None) * 7)\n",
    "        #!!дата 17.05.2012\n",
    "        cur_features.append(re.match('\\w*[0-9]{2}.[0-9]{2}.[0-9]{4}\\w*', par[(pos - 10):(pos + 10)]) is not None)\n",
    "        cur_features.append(re.match('\\w*[0-9]+-[0-9]+.\\w*', par[(pos - 10):(pos + 10)]) is not None)\n",
    "        subs = par[(pos - 5):(pos + 5)]\n",
    "        for x in reds:\n",
    "            cur_features.append(subs.lower().find(x) == -1)\n",
    "        \n",
    "        return cur_features"
   ]
  },
  {
   "cell_type": "code",
   "execution_count": 55,
   "metadata": {
    "collapsed": false
   },
   "outputs": [
    {
     "name": "stdout",
     "output_type": "stream",
     "text": [
      "0 / 22676\n",
      "1000 / 22676\n",
      "2000 / 22676\n",
      "3000 / 22676\n",
      "4000 / 22676\n",
      "5000 / 22676\n",
      "6000 / 22676\n",
      "7000 / 22676\n",
      "8000 / 22676\n",
      "9000 / 22676\n",
      "10000 / 22676\n",
      "11000 / 22676\n",
      "12000 / 22676\n",
      "13000 / 22676\n",
      "14000 / 22676\n",
      "15000 / 22676\n",
      "16000 / 22676\n",
      "17000 / 22676\n",
      "18000 / 22676\n",
      "19000 / 22676\n",
      "20000 / 22676\n",
      "21000 / 22676\n",
      "22000 / 22676\n"
     ]
    }
   ],
   "source": [
    "#mark, space left, space right, \n",
    "#punctuation left, punctuation right, \n",
    "#digit left, digit right, \n",
    "#letter left, letter right, \n",
    "#brackets left, brackets right, \n",
    "# стандартное сокращение?? неизвестное сокращение?\n",
    "features = [] \n",
    "ans = []\n",
    "\n",
    "for num, doc in enumerate(train_data):\n",
    "    if (num % 1000 == 0):\n",
    "        print(num, \"/\", len(train_data))\n",
    "    par = doc['Paragraph'] + ' '\n",
    "    end_pos = []\n",
    "    for ss in doc['Sentences']:\n",
    "        end_pos.append(par.find(ss) + len(ss) - 1)\n",
    "    for pos in range(len(par) - 1):\n",
    "        if par[pos] not in string.punctuation:\n",
    "            continue        \n",
    "        features.append(getFeatures(par, pos))\n",
    "        ans.append(int(pos in end_pos))"
   ]
  },
  {
   "cell_type": "code",
   "execution_count": 56,
   "metadata": {
    "collapsed": false
   },
   "outputs": [
    {
     "name": "stdout",
     "output_type": "stream",
     "text": [
      "[46, False, False, False, False, True, False, False, False, False, False, False, True, False, False, True, False, False, False, False, False, False, False, False, False, True, False, False, False, 5, 0, False, False, True, True, True, True, True, True, True, True, True, True, True, True, True, True, True, True, True, True, True, True, True, True, True, True, True, True, True, True, True, True, True, True, True, True, True]\n",
      "DecisionTreeClassifier(class_weight=None, criterion='gini', max_depth=None,\n",
      "            max_features=None, max_leaf_nodes=None,\n",
      "            min_impurity_split=1e-07, min_samples_leaf=1,\n",
      "            min_samples_split=2, min_weight_fraction_leaf=0.0,\n",
      "            presort=False, random_state=None, splitter='best')\n",
      "f1 score =  0.990623979836\n"
     ]
    }
   ],
   "source": [
    "from sklearn import tree\n",
    "clf = tree.DecisionTreeClassifier()\n",
    "clf = clf.fit(features, ans)\n",
    "print(clf)\n",
    "\n",
    "pred = clf.predict(features).tolist()\n",
    "\n",
    "print(\"f1 score = \", f1_score(ans, pred))"
   ]
  },
  {
   "cell_type": "code",
   "execution_count": 57,
   "metadata": {
    "collapsed": false
   },
   "outputs": [],
   "source": [
    "import codecs\n",
    "out_data = []\n",
    "fout = codecs.open(\"out\", \"w\", \"utf-8\")\n",
    "for num, doc in enumerate(test_data):\n",
    "    par = doc['Paragraph'] + ' '\n",
    "    for marks in doc['Marks']:        \n",
    "        ind = marks['Index']\n",
    "        pos = marks['Pos']\n",
    "        mark = marks['Mark']        \n",
    "        cur_features = getFeatures(par, pos)\n",
    "        pred = clf.predict([cur_features])[0]\n",
    "        tmp = par[(pos - 50):pos] + '!' + par[pos] + '!' + par[(pos + 1):(pos + 10)]        \n",
    "        if (pred == 0):\n",
    "            fout.write(tmp + \"=\" + str(pred) + \"\\n\")\n",
    "        out_data.append(pred)\n",
    "fout.close()"
   ]
  },
  {
   "cell_type": "code",
   "execution_count": 58,
   "metadata": {
    "collapsed": false
   },
   "outputs": [
    {
     "name": "stdout",
     "output_type": "stream",
     "text": [
      "26476\n"
     ]
    }
   ],
   "source": [
    "print(len(out_data))\n",
    "df = pd.DataFrame(out_data, columns=['Mark'], index=range(1,26477))\n",
    "df.index.name = 'Id'\n",
    "df.to_csv(\"sampleSubmission.csv\")"
   ]
  },
  {
   "cell_type": "code",
   "execution_count": null,
   "metadata": {
    "collapsed": true
   },
   "outputs": [],
   "source": []
  },
  {
   "cell_type": "code",
   "execution_count": 10,
   "metadata": {
    "collapsed": false
   },
   "outputs": [],
   "source": []
  },
  {
   "cell_type": "code",
   "execution_count": 11,
   "metadata": {
    "collapsed": true
   },
   "outputs": [],
   "source": []
  },
  {
   "cell_type": "code",
   "execution_count": 12,
   "metadata": {
    "collapsed": true
   },
   "outputs": [],
   "source": []
  },
  {
   "cell_type": "code",
   "execution_count": null,
   "metadata": {
    "collapsed": true
   },
   "outputs": [],
   "source": [
    "акцию под лозунгом \"С Дона выдачи нет, а с Днепра?!\"! против в1\n",
    "1 июня в 13–00, в Одинцовском суде, ул.Советская,7!.! Суд по м0\n",
    "минск Московской области по адресу ул. Калинина, 4!.! 0\n",
    "ороде Наро-Фоминск Московской области по адресу ул!.! Калинина1"
   ]
  }
 ],
 "metadata": {
  "kernelspec": {
   "display_name": "Python 3",
   "language": "python",
   "name": "python3"
  },
  "language_info": {
   "codemirror_mode": {
    "name": "ipython",
    "version": 3
   },
   "file_extension": ".py",
   "mimetype": "text/x-python",
   "name": "python",
   "nbconvert_exporter": "python",
   "pygments_lexer": "ipython3",
   "version": "3.6.0"
  }
 },
 "nbformat": 4,
 "nbformat_minor": 0
}
